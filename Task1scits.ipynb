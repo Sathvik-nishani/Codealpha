{
  "nbformat": 4,
  "nbformat_minor": 0,
  "metadata": {
    "colab": {
      "provenance": [],
      "authorship_tag": "ABX9TyM60bI8zNGTzR5L9ofZiZVO",
      "include_colab_link": true
    },
    "kernelspec": {
      "name": "python3",
      "display_name": "Python 3"
    },
    "language_info": {
      "name": "python"
    }
  },
  "cells": [
    {
      "cell_type": "markdown",
      "metadata": {
        "id": "view-in-github",
        "colab_type": "text"
      },
      "source": [
        "<a href=\"https://colab.research.google.com/github/Sathvik-nishani/Codealpha/blob/main/Task1scits.ipynb\" target=\"_parent\"><img src=\"https://colab.research.google.com/assets/colab-badge.svg\" alt=\"Open In Colab\"/></a>"
      ]
    },
    {
      "cell_type": "code",
      "source": [],
      "metadata": {
        "id": "qsv3NFRby8eX"
      },
      "execution_count": null,
      "outputs": []
    },
    {
      "cell_type": "markdown",
      "source": [
        "1.adding two integers 7 and 5"
      ],
      "metadata": {
        "id": "436bTozFy7zf"
      }
    },
    {
      "cell_type": "code",
      "source": [
        "print(7 + 5)"
      ],
      "metadata": {
        "colab": {
          "base_uri": "https://localhost:8080/"
        },
        "id": "KinfHC8oy0ik",
        "outputId": "7f4e6dd5-71cd-4087-9c0d-1acd3bde1e5c"
      },
      "execution_count": 1,
      "outputs": [
        {
          "output_type": "stream",
          "name": "stdout",
          "text": [
            "12\n"
          ]
        }
      ]
    },
    {
      "cell_type": "markdown",
      "source": [
        "2. find the product of 3.5 and 2"
      ],
      "metadata": {
        "id": "Op2bMXiswnog"
      }
    },
    {
      "cell_type": "code",
      "execution_count": 2,
      "metadata": {
        "colab": {
          "base_uri": "https://localhost:8080/"
        },
        "id": "1G89LnlzwhOY",
        "outputId": "2f0ff50a-4090-4ef0-b180-6e3d0767bad1"
      },
      "outputs": [
        {
          "output_type": "stream",
          "name": "stdout",
          "text": [
            "7.0\n"
          ]
        }
      ],
      "source": [
        "print(3.5 * 2)"
      ]
    },
    {
      "cell_type": "markdown",
      "source": [
        "3.divide 15 by 4 and get the integer result\n",
        "\n"
      ],
      "metadata": {
        "id": "8FkYCfn_0K9l"
      }
    },
    {
      "cell_type": "code",
      "source": [
        "print(15// 4)"
      ],
      "metadata": {
        "colab": {
          "base_uri": "https://localhost:8080/"
        },
        "id": "b7kYIE92wlNr",
        "outputId": "f43a62d3-6f99-4ee0-897a-86c6bb678db8"
      },
      "execution_count": 5,
      "outputs": [
        {
          "output_type": "stream",
          "name": "stdout",
          "text": [
            "3\n"
          ]
        }
      ]
    },
    {
      "cell_type": "markdown",
      "source": [
        "4.Find the remainder when 17 is divided by 5"
      ],
      "metadata": {
        "id": "QgPbse461IGA"
      }
    },
    {
      "cell_type": "code",
      "source": [
        "print(17 % 5)"
      ],
      "metadata": {
        "colab": {
          "base_uri": "https://localhost:8080/"
        },
        "id": "t94LH_hV1Jpc",
        "outputId": "1086ae48-9250-4ec6-c5e8-71f1f6733951"
      },
      "execution_count": 6,
      "outputs": [
        {
          "output_type": "stream",
          "name": "stdout",
          "text": [
            "2\n"
          ]
        }
      ]
    },
    {
      "cell_type": "markdown",
      "source": [
        "5.Raise 2 to the power of 5"
      ],
      "metadata": {
        "id": "GfcNcXw_1lJN"
      }
    },
    {
      "cell_type": "code",
      "source": [
        "print(2 ** 5)"
      ],
      "metadata": {
        "colab": {
          "base_uri": "https://localhost:8080/"
        },
        "id": "80UuOEvm1sph",
        "outputId": "94b47f67-9fb4-4c4b-fa1b-a196bea36544"
      },
      "execution_count": 7,
      "outputs": [
        {
          "output_type": "stream",
          "name": "stdout",
          "text": [
            "32\n"
          ]
        }
      ]
    },
    {
      "cell_type": "markdown",
      "source": [
        "6.Convert the float value 7.8 to integer\n",
        "\n",
        "\n"
      ],
      "metadata": {
        "id": "Xt0u8CCd15me"
      }
    },
    {
      "cell_type": "code",
      "source": [
        "print(int(7.8))"
      ],
      "metadata": {
        "colab": {
          "base_uri": "https://localhost:8080/"
        },
        "id": "JYLl4sm-10En",
        "outputId": "cf340dce-adce-42a1-edca-a683efdef59b"
      },
      "execution_count": 8,
      "outputs": [
        {
          "output_type": "stream",
          "name": "stdout",
          "text": [
            "7\n"
          ]
        }
      ]
    },
    {
      "cell_type": "markdown",
      "source": [
        "7.Calculate the absolute value of -25"
      ],
      "metadata": {
        "id": "7zy_Klsq2IlW"
      }
    },
    {
      "cell_type": "code",
      "source": [
        "print(abs(-25))"
      ],
      "metadata": {
        "colab": {
          "base_uri": "https://localhost:8080/"
        },
        "id": "8YwAxEfj2OKa",
        "outputId": "96ff72cb-a947-4bbf-d4a1-fa61efd09439"
      },
      "execution_count": 9,
      "outputs": [
        {
          "output_type": "stream",
          "name": "stdout",
          "text": [
            "25\n"
          ]
        }
      ]
    },
    {
      "cell_type": "markdown",
      "source": [
        "8.Round 8.675 to 2 decimal places\n",
        "\n"
      ],
      "metadata": {
        "id": "DKuBlnBs2SMd"
      }
    },
    {
      "cell_type": "code",
      "source": [
        "print(round(8.675,2))"
      ],
      "metadata": {
        "colab": {
          "base_uri": "https://localhost:8080/"
        },
        "id": "ZtcPoqTE2dD8",
        "outputId": "efe822ae-091f-4354-e830-b712eb2a2ac7"
      },
      "execution_count": 7,
      "outputs": [
        {
          "output_type": "stream",
          "name": "stdout",
          "text": [
            "8.68\n"
          ]
        }
      ]
    },
    {
      "cell_type": "markdown",
      "source": [
        "9.Find the maximum of 8, 3, 12"
      ],
      "metadata": {
        "id": "mdKCrtn1KkJB"
      }
    },
    {
      "cell_type": "code",
      "source": [
        "print(max(8,3,12))"
      ],
      "metadata": {
        "colab": {
          "base_uri": "https://localhost:8080/"
        },
        "id": "R4du7SqRKzK6",
        "outputId": "6f2bfde3-c26d-499e-8b11-2a995104b8f8"
      },
      "execution_count": 8,
      "outputs": [
        {
          "output_type": "stream",
          "name": "stdout",
          "text": [
            "12\n"
          ]
        }
      ]
    },
    {
      "cell_type": "markdown",
      "source": [
        "10. Convert the string '100' to a float"
      ],
      "metadata": {
        "id": "4wE1EdDJLGQm"
      }
    },
    {
      "cell_type": "code",
      "source": [
        "print(float('100'))"
      ],
      "metadata": {
        "colab": {
          "base_uri": "https://localhost:8080/"
        },
        "id": "ziGYViNbLSHD",
        "outputId": "eeba77f1-7687-4f91-ea9d-326854a7bfa7"
      },
      "execution_count": 9,
      "outputs": [
        {
          "output_type": "stream",
          "name": "stdout",
          "text": [
            "100.0\n"
          ]
        }
      ]
    },
    {
      "cell_type": "markdown",
      "source": [
        "11. Access the third element in the list[10,20,30,40]"
      ],
      "metadata": {
        "id": "ZbVA3_1ELXUU"
      }
    },
    {
      "cell_type": "code",
      "source": [
        "a = [10,20,30,40]\n",
        "print(a[2])"
      ],
      "metadata": {
        "colab": {
          "base_uri": "https://localhost:8080/"
        },
        "id": "x3iNWPOBLe61",
        "outputId": "f5ca6cf2-1d94-494c-9ec7-f862b1c9c2ae"
      },
      "execution_count": 11,
      "outputs": [
        {
          "output_type": "stream",
          "name": "stdout",
          "text": [
            "30\n"
          ]
        }
      ]
    },
    {
      "cell_type": "markdown",
      "source": [
        "12.Slice the first three elements in the tuple (1,2,3,4,5)"
      ],
      "metadata": {
        "id": "TkWmQj6MMcJD"
      }
    },
    {
      "cell_type": "code",
      "source": [
        "a = (1,2,3,4,5)\n",
        "print(a[:3])"
      ],
      "metadata": {
        "colab": {
          "base_uri": "https://localhost:8080/"
        },
        "id": "teGFsBJLMqOF",
        "outputId": "d081fe87-bc42-41a7-ba59-6681775af2d4"
      },
      "execution_count": 22,
      "outputs": [
        {
          "output_type": "stream",
          "name": "stdout",
          "text": [
            "(1, 2, 3)\n"
          ]
        }
      ]
    },
    {
      "cell_type": "markdown",
      "source": [
        "13. Get the length of the list [4,5,6,7,8]"
      ],
      "metadata": {
        "id": "B2MGlbL3Oi_U"
      }
    },
    {
      "cell_type": "code",
      "source": [
        "a = [4,5,6,7,8]\n",
        "print(len(a))"
      ],
      "metadata": {
        "colab": {
          "base_uri": "https://localhost:8080/"
        },
        "id": "TzXOAGCqMrXM",
        "outputId": "bab7e5ab-4a98-486b-edca-70a0c1c07ae9"
      },
      "execution_count": 23,
      "outputs": [
        {
          "output_type": "stream",
          "name": "stdout",
          "text": [
            "5\n"
          ]
        }
      ]
    },
    {
      "cell_type": "markdown",
      "source": [
        "14. Append the number 6 in the list [1,2,3,4,5]"
      ],
      "metadata": {
        "id": "UGa8DFgbcwZu"
      }
    },
    {
      "cell_type": "code",
      "source": [
        "a = [1,2,3,4,5]\n",
        "a.append(6)\n",
        "print(a)"
      ],
      "metadata": {
        "colab": {
          "base_uri": "https://localhost:8080/"
        },
        "id": "mjQrg9M4c7lb",
        "outputId": "ced6db1b-81f3-4d44-ee2c-520f831304e0"
      },
      "execution_count": 24,
      "outputs": [
        {
          "output_type": "stream",
          "name": "stdout",
          "text": [
            "[1, 2, 3, 4, 5, 6]\n"
          ]
        }
      ]
    },
    {
      "cell_type": "markdown",
      "source": [
        "15. Sort the list [3,1,4,2] iin ascneding order"
      ],
      "metadata": {
        "id": "b_5VgiEAdIt2"
      }
    },
    {
      "cell_type": "code",
      "source": [
        "list = [3,1,4,2]\n",
        "print(sorted(list))"
      ],
      "metadata": {
        "colab": {
          "base_uri": "https://localhost:8080/"
        },
        "id": "gNTvcHMUdnJv",
        "outputId": "9408fab7-225a-4774-8474-a365d1b62f9b"
      },
      "execution_count": 30,
      "outputs": [
        {
          "output_type": "stream",
          "name": "stdout",
          "text": [
            "[1, 2, 3, 4]\n"
          ]
        }
      ]
    },
    {
      "cell_type": "markdown",
      "source": [
        "16. Reverse the list [7,8,9,10]"
      ],
      "metadata": {
        "id": "DiO0ZaQmex7V"
      }
    },
    {
      "cell_type": "code",
      "source": [
        "list = [7,8,9,10]\n",
        "print(list[::-1])"
      ],
      "metadata": {
        "colab": {
          "base_uri": "https://localhost:8080/"
        },
        "id": "dNDVCe-Le6XF",
        "outputId": "4b479ff9-0d95-43d4-c701-2061e8e6d302"
      },
      "execution_count": 31,
      "outputs": [
        {
          "output_type": "stream",
          "name": "stdout",
          "text": [
            "[10, 9, 8, 7]\n"
          ]
        }
      ]
    },
    {
      "cell_type": "markdown",
      "source": [
        "17. Find the index of 3 in the list [1,2,3,4,5]"
      ],
      "metadata": {
        "id": "_etX9GFJfFnL"
      }
    },
    {
      "cell_type": "code",
      "source": [
        "list = [1,2,3,4,5]\n",
        "print(list.index(3))"
      ],
      "metadata": {
        "colab": {
          "base_uri": "https://localhost:8080/"
        },
        "id": "FO9flr_dfOO-",
        "outputId": "8ed24d5e-2c0b-4de8-cb71-1feb00fe7145"
      },
      "execution_count": 35,
      "outputs": [
        {
          "output_type": "stream",
          "name": "stdout",
          "text": [
            "2\n"
          ]
        }
      ]
    },
    {
      "cell_type": "markdown",
      "source": [
        "18. Check if 5 exists in the list [1,2,3,4]"
      ],
      "metadata": {
        "id": "WNOusJXif-7V"
      }
    },
    {
      "cell_type": "code",
      "source": [
        "list = [1,2,3,4]\n",
        "if 5 in list:\n",
        "   print(True)\n",
        "else :\n",
        "  print(False)\n",
        ""
      ],
      "metadata": {
        "colab": {
          "base_uri": "https://localhost:8080/"
        },
        "id": "DPTwT9NAgKak",
        "outputId": "89620cb3-c3e9-4392-9dcf-2542cb4fee2a"
      },
      "execution_count": 41,
      "outputs": [
        {
          "output_type": "stream",
          "name": "stdout",
          "text": [
            "False\n"
          ]
        }
      ]
    },
    {
      "cell_type": "markdown",
      "source": [
        "19. Count how many times 2 appears in the list [2,3,2,4,2]"
      ],
      "metadata": {
        "id": "DhyAFJUjg95K"
      }
    },
    {
      "cell_type": "code",
      "source": [
        "list = [2,3,2,4,2]\n",
        "print(list.count(2))"
      ],
      "metadata": {
        "colab": {
          "base_uri": "https://localhost:8080/"
        },
        "id": "sZ4QqLKXhLMr",
        "outputId": "4dc733e1-09ee-4943-a3e5-433dbaf2a571"
      },
      "execution_count": 42,
      "outputs": [
        {
          "output_type": "stream",
          "name": "stdout",
          "text": [
            "3\n"
          ]
        }
      ]
    },
    {
      "cell_type": "markdown",
      "source": [
        "20. Create a list with numbers from 1 to 5 using list comprehension"
      ],
      "metadata": {
        "id": "Q42BEjBohY-J"
      }
    },
    {
      "cell_type": "code",
      "source": [
        "print([i+1 for i in range(5)])"
      ],
      "metadata": {
        "colab": {
          "base_uri": "https://localhost:8080/"
        },
        "id": "n5tqiqMdhw74",
        "outputId": "aefcbfdc-bee4-4e5e-9b15-d4fd1295bba5"
      },
      "execution_count": 46,
      "outputs": [
        {
          "output_type": "stream",
          "name": "stdout",
          "text": [
            "[1, 2, 3, 4, 5]\n"
          ]
        }
      ]
    },
    {
      "cell_type": "markdown",
      "source": [
        "21. Extract the first 5 characters from the string 'MachineLearning'"
      ],
      "metadata": {
        "id": "LqyE1tkwja64"
      }
    },
    {
      "cell_type": "code",
      "source": [
        "a = 'Machinelearning'\n",
        "print(a[:5])\n"
      ],
      "metadata": {
        "colab": {
          "base_uri": "https://localhost:8080/"
        },
        "id": "NIg12DWtjsCr",
        "outputId": "c507e51b-a7ec-4cde-aa8a-9243cfda18eb"
      },
      "execution_count": 47,
      "outputs": [
        {
          "output_type": "stream",
          "name": "stdout",
          "text": [
            "Machi\n"
          ]
        }
      ]
    },
    {
      "cell_type": "markdown",
      "source": [
        "22. Replace 'apple' with 'orange' in the string 'I like apple pie'"
      ],
      "metadata": {
        "id": "iMG9Qn_rkHNX"
      }
    },
    {
      "cell_type": "code",
      "source": [
        "a = 'I like apple pie'\n",
        "print(a.replace('apple', 'orange'))"
      ],
      "metadata": {
        "colab": {
          "base_uri": "https://localhost:8080/"
        },
        "id": "XA_G-JxakU59",
        "outputId": "cfd3f150-47a3-4f92-d837-244e05b64a08"
      },
      "execution_count": 48,
      "outputs": [
        {
          "output_type": "stream",
          "name": "stdout",
          "text": [
            "I like orange pie\n"
          ]
        }
      ]
    },
    {
      "cell_type": "markdown",
      "source": [
        "23. Find the length of the string 'Datascience'"
      ],
      "metadata": {
        "id": "mmwr30bKkl-G"
      }
    },
    {
      "cell_type": "code",
      "source": [
        "a = 'Data science'\n",
        "print(len(a))\n",
        "count = 0\n",
        "for i in a:\n",
        "  count += 1\n",
        "print(count)\n"
      ],
      "metadata": {
        "colab": {
          "base_uri": "https://localhost:8080/"
        },
        "id": "WQdNRUqckxlv",
        "outputId": "783a3606-27aa-43b9-abeb-2f06c841a6b4"
      },
      "execution_count": 54,
      "outputs": [
        {
          "output_type": "stream",
          "name": "stdout",
          "text": [
            "12\n",
            "12\n"
          ]
        }
      ]
    },
    {
      "cell_type": "markdown",
      "source": [
        "24. Check if the word 'code'  is present in the list 'I love to code in python'"
      ],
      "metadata": {
        "id": "Ko_YZA44mD6e"
      }
    },
    {
      "cell_type": "code",
      "source": [
        "text = 'I love to code in python'\n",
        "if 'code' in text:\n",
        "  print(True)\n",
        "else :\n",
        "  print(False)"
      ],
      "metadata": {
        "colab": {
          "base_uri": "https://localhost:8080/"
        },
        "id": "9Ppg7dd8ma4O",
        "outputId": "82105aff-72f0-4bf7-a5c5-d598ca403dab"
      },
      "execution_count": 56,
      "outputs": [
        {
          "output_type": "stream",
          "name": "stdout",
          "text": [
            "True\n"
          ]
        }
      ]
    }
  ]
}